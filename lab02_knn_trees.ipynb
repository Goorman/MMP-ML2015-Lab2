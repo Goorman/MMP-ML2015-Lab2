{
 "cells": [
  {
   "cell_type": "markdown",
   "metadata": {},
   "source": [
    "# Лабораторная работа 2. Метод ближайших соседей и решающие деревья."
   ]
  },
  {
   "cell_type": "markdown",
   "metadata": {},
   "source": [
    "ФИО: Гурьянов Алексей Константинович\n",
    "\n",
    "Группа: 517"
   ]
  },
  {
   "cell_type": "code",
   "execution_count": 1,
   "metadata": {
    "collapsed": false
   },
   "outputs": [
    {
     "name": "stdout",
     "output_type": "stream",
     "text": [
      "Populating the interactive namespace from numpy and matplotlib\n"
     ]
    }
   ],
   "source": [
    "%pylab inline"
   ]
  },
  {
   "cell_type": "code",
   "execution_count": 70,
   "metadata": {
    "collapsed": true
   },
   "outputs": [],
   "source": [
    "from pylab import *"
   ]
  },
  {
   "cell_type": "code",
   "execution_count": 2,
   "metadata": {
    "collapsed": true
   },
   "outputs": [],
   "source": [
    "import numpy as np\n",
    "import pandas as pd"
   ]
  },
  {
   "cell_type": "markdown",
   "metadata": {},
   "source": [
    "Все эксперименты в этой лабораторной работе предлагается проводить на данных соревнования Amazon Employee Access Challenge: https://www.kaggle.com/c/amazon-employee-access-challenge\n",
    "\n",
    "В данной задаче предлагается предсказать, будет ли одобрен запрос сотрудника на получение доступа к тому или иному ресурсу. Все признаки являются категориальными.\n",
    "\n",
    "Для удобства данные можно загрузить по ссылке: https://www.dropbox.com/s/q6fbs1vvhd5kvek/amazon.csv\n",
    "\n",
    "Сразу прочитаем данные и создадим разбиение на обучение и контроль:"
   ]
  },
  {
   "cell_type": "code",
   "execution_count": 3,
   "metadata": {
    "collapsed": false
   },
   "outputs": [
    {
     "data": {
      "text/html": [
       "<div>\n",
       "<table border=\"1\" class=\"dataframe\">\n",
       "  <thead>\n",
       "    <tr style=\"text-align: right;\">\n",
       "      <th></th>\n",
       "      <th>ACTION</th>\n",
       "      <th>RESOURCE</th>\n",
       "      <th>MGR_ID</th>\n",
       "      <th>ROLE_ROLLUP_1</th>\n",
       "      <th>ROLE_ROLLUP_2</th>\n",
       "      <th>ROLE_DEPTNAME</th>\n",
       "      <th>ROLE_TITLE</th>\n",
       "      <th>ROLE_FAMILY_DESC</th>\n",
       "      <th>ROLE_FAMILY</th>\n",
       "      <th>ROLE_CODE</th>\n",
       "    </tr>\n",
       "  </thead>\n",
       "  <tbody>\n",
       "    <tr>\n",
       "      <th>0</th>\n",
       "      <td>1</td>\n",
       "      <td>39353</td>\n",
       "      <td>85475</td>\n",
       "      <td>117961</td>\n",
       "      <td>118300</td>\n",
       "      <td>123472</td>\n",
       "      <td>117905</td>\n",
       "      <td>117906</td>\n",
       "      <td>290919</td>\n",
       "      <td>117908</td>\n",
       "    </tr>\n",
       "    <tr>\n",
       "      <th>1</th>\n",
       "      <td>1</td>\n",
       "      <td>17183</td>\n",
       "      <td>1540</td>\n",
       "      <td>117961</td>\n",
       "      <td>118343</td>\n",
       "      <td>123125</td>\n",
       "      <td>118536</td>\n",
       "      <td>118536</td>\n",
       "      <td>308574</td>\n",
       "      <td>118539</td>\n",
       "    </tr>\n",
       "    <tr>\n",
       "      <th>2</th>\n",
       "      <td>1</td>\n",
       "      <td>36724</td>\n",
       "      <td>14457</td>\n",
       "      <td>118219</td>\n",
       "      <td>118220</td>\n",
       "      <td>117884</td>\n",
       "      <td>117879</td>\n",
       "      <td>267952</td>\n",
       "      <td>19721</td>\n",
       "      <td>117880</td>\n",
       "    </tr>\n",
       "    <tr>\n",
       "      <th>3</th>\n",
       "      <td>1</td>\n",
       "      <td>36135</td>\n",
       "      <td>5396</td>\n",
       "      <td>117961</td>\n",
       "      <td>118343</td>\n",
       "      <td>119993</td>\n",
       "      <td>118321</td>\n",
       "      <td>240983</td>\n",
       "      <td>290919</td>\n",
       "      <td>118322</td>\n",
       "    </tr>\n",
       "    <tr>\n",
       "      <th>4</th>\n",
       "      <td>1</td>\n",
       "      <td>42680</td>\n",
       "      <td>5905</td>\n",
       "      <td>117929</td>\n",
       "      <td>117930</td>\n",
       "      <td>119569</td>\n",
       "      <td>119323</td>\n",
       "      <td>123932</td>\n",
       "      <td>19793</td>\n",
       "      <td>119325</td>\n",
       "    </tr>\n",
       "  </tbody>\n",
       "</table>\n",
       "</div>"
      ],
      "text/plain": [
       "   ACTION  RESOURCE  MGR_ID  ROLE_ROLLUP_1  ROLE_ROLLUP_2  ROLE_DEPTNAME  \\\n",
       "0       1     39353   85475         117961         118300         123472   \n",
       "1       1     17183    1540         117961         118343         123125   \n",
       "2       1     36724   14457         118219         118220         117884   \n",
       "3       1     36135    5396         117961         118343         119993   \n",
       "4       1     42680    5905         117929         117930         119569   \n",
       "\n",
       "   ROLE_TITLE  ROLE_FAMILY_DESC  ROLE_FAMILY  ROLE_CODE  \n",
       "0      117905            117906       290919     117908  \n",
       "1      118536            118536       308574     118539  \n",
       "2      117879            267952        19721     117880  \n",
       "3      118321            240983       290919     118322  \n",
       "4      119323            123932        19793     119325  "
      ]
     },
     "execution_count": 3,
     "metadata": {},
     "output_type": "execute_result"
    }
   ],
   "source": [
    "DATA = pd.read_csv('amazon.csv')\n",
    "DATA.head()"
   ]
  },
  {
   "cell_type": "code",
   "execution_count": 4,
   "metadata": {
    "collapsed": false
   },
   "outputs": [
    {
     "data": {
      "text/plain": [
       "(32769, 10)"
      ]
     },
     "execution_count": 4,
     "metadata": {},
     "output_type": "execute_result"
    }
   ],
   "source": [
    "DATA.shape"
   ]
  },
  {
   "cell_type": "markdown",
   "metadata": {},
   "source": [
    "Так как в процессе выполнения первой части оказалось, что KNN без реализации кд-дерева работает очень медленно, первая часть была выполнена на первых 300 объектах выборки."
   ]
  },
  {
   "cell_type": "code",
   "execution_count": 5,
   "metadata": {
    "collapsed": true
   },
   "outputs": [],
   "source": [
    "data = DATA.iloc[0:300, :].copy()"
   ]
  },
  {
   "cell_type": "code",
   "execution_count": 6,
   "metadata": {
    "collapsed": false
   },
   "outputs": [
    {
     "data": {
      "text/plain": [
       "0.93333333333333335"
      ]
     },
     "execution_count": 6,
     "metadata": {},
     "output_type": "execute_result"
    }
   ],
   "source": [
    "# доля положительных примеров\n",
    "data.ACTION.mean()"
   ]
  },
  {
   "cell_type": "code",
   "execution_count": 7,
   "metadata": {
    "collapsed": false
   },
   "outputs": [
    {
     "name": "stdout",
     "output_type": "stream",
     "text": [
      "ACTION 2\n",
      "RESOURCE 246\n",
      "MGR_ID 275\n",
      "ROLE_ROLLUP_1 48\n",
      "ROLE_ROLLUP_2 65\n",
      "ROLE_DEPTNAME 159\n",
      "ROLE_TITLE 95\n",
      "ROLE_FAMILY_DESC 154\n",
      "ROLE_FAMILY 34\n",
      "ROLE_CODE 95\n"
     ]
    }
   ],
   "source": [
    "# число значений у признаков\n",
    "for col_name in data.columns:\n",
    "    print col_name, len(data[col_name].unique())"
   ]
  },
  {
   "cell_type": "code",
   "execution_count": 8,
   "metadata": {
    "collapsed": true
   },
   "outputs": [],
   "source": [
    "from sklearn.cross_validation import train_test_split"
   ]
  },
  {
   "cell_type": "code",
   "execution_count": 9,
   "metadata": {
    "collapsed": false
   },
   "outputs": [],
   "source": [
    "X_train, X_test, y_train, y_test = train_test_split(data.iloc[:, 1:], data.iloc[:, 0],\n",
    "                                                    test_size=0.3, random_state=241)"
   ]
  },
  {
   "cell_type": "code",
   "execution_count": 10,
   "metadata": {
    "collapsed": true
   },
   "outputs": [],
   "source": [
    "from sklearn.metrics import roc_auc_score\n",
    "from sklearn.neighbors import KNeighborsClassifier"
   ]
  },
  {
   "cell_type": "markdown",
   "metadata": {},
   "source": [
    "## Часть 1: kNN и категориальные признаки"
   ]
  },
  {
   "cell_type": "markdown",
   "metadata": {},
   "source": [
    "#### 1. Реализуйте три функции расстояния на категориальных признаках, которые обсуждались на втором семинаре. Реализуйте самостоятельно метод k ближайших соседей, который будет уметь работать с этими функциями расстояния (учтите, что он должен возвращать вероятность — отношение объектов первого класса среди соседей к числу соседей). Как вариант, можно реализовать метрики как [user-defined distance](http://scikit-learn.org/stable/modules/generated/sklearn.neighbors.DistanceMetric.html), после чего воспользоваться реализацией kNN из sklearn (в этом случае используйте функцию predict_proba).\n",
    "\n",
    "#### Подсчитайте для каждой из метрик качество на тестовой выборке `X_test` при числе соседей $k = 10$. Мера качества — AUC-ROC.\n",
    "\n",
    "Какая функция расстояния оказалась лучшей?"
   ]
  },
  {
   "cell_type": "markdown",
   "metadata": {},
   "source": [
    "Во втором семинаре было разобрано три метрики расстояния над категориальными признаками. В следующих трех ячейках они реализованы в том же порядке в каком они указаны в конспектах лекции."
   ]
  },
  {
   "cell_type": "code",
   "execution_count": 288,
   "metadata": {
    "collapsed": true
   },
   "outputs": [],
   "source": [
    "def dist1(x, y):\n",
    "    return (x-y).apply(lambda a: int(a != 0)).mean()"
   ]
  },
  {
   "cell_type": "code",
   "execution_count": 289,
   "metadata": {
    "collapsed": true
   },
   "outputs": [],
   "source": [
    "def dist2(x, y, weights):\n",
    "    A = (x-y).apply(lambda a: int(a != 0))\n",
    "    B = np.array([int(x[i] == y[i]) * weights[i].get(x[i], 0) for i in x.index])\n",
    "    return (A + B).mean()"
   ]
  },
  {
   "cell_type": "code",
   "execution_count": 321,
   "metadata": {
    "collapsed": true
   },
   "outputs": [],
   "source": [
    "def dist3(x, y, weights):\n",
    "    return np.array([x[i] * y[i] * weights[i].get(x[i], 0) * weights[i].get(y[i], 0) for i in x.index]).mean()"
   ]
  },
  {
   "cell_type": "markdown",
   "metadata": {},
   "source": [
    "Для выполнения задания было решено реализовать свой собственный knn. Далее расположен его код."
   ]
  },
  {
   "cell_type": "code",
   "execution_count": 326,
   "metadata": {
    "collapsed": false
   },
   "outputs": [],
   "source": [
    "class MyKNN:\n",
    "    def __init__(self, k, distance):\n",
    "        self.k = k\n",
    "        if distance == \"type1\" or distance == \"type2\" or distance == \"type3\":\n",
    "            self.distance = distance\n",
    "        else:\n",
    "            raise ValueError('MyKNN does not support %s distance type.' % distance)\n",
    "            \n",
    "    def changeK(self, k):\n",
    "        self.k = k\n",
    "            \n",
    "    def fit(self, X_train, y_train):\n",
    "        self.X = X_train\n",
    "        self.Y = y_train\n",
    "        if self.distance == \"type1\":\n",
    "            pass\n",
    "        elif self.distance == \"type2\":\n",
    "            self.weights = dict()\n",
    "            \n",
    "            for key in X_test.axes[1]:\n",
    "                self.weights[key] = dict()\n",
    "                value_counts = self.X[key].value_counts()\n",
    "                l = value_counts.sum()\n",
    "                stats = dict()\n",
    "                for i in value_counts.index:\n",
    "                    if value_counts[i] in stats:\n",
    "                        stats[value_counts[i]].append(i)\n",
    "                    else:\n",
    "                        stats[value_counts[i]] = [i]\n",
    "                s_stats = sorted(stats.items(), key=lambda t: t[0])\n",
    "                p_j = np.array([float(entry[0] * (entry[0] - 1)) / (l * (l - 1)) for entry in s_stats])\n",
    "                d = np.cumsum(p_j)\n",
    "                for i in range(0, len(s_stats)):\n",
    "                    for k in s_stats[i][1]:\n",
    "                        self.weights[key][k] = d[i]\n",
    "            pass\n",
    "        elif self.distance == \"type3\":\n",
    "            self.weights = dict()\n",
    "            for key in X_test.axes[1]:\n",
    "                self.weights[key] = dict(self.X[key].value_counts().apply(np.log2))\n",
    "            pass\n",
    "        else:\n",
    "            pass           \n",
    "        \n",
    "    def predict(self, X_test):\n",
    "        if self.distance == \"type1\":\n",
    "            A = X_test.apply(lambda x: self.X.apply(lambda y: dist1(x, y), axis = 1), axis = 1)\n",
    "            return A.apply(lambda z: self.Y[np.array(z.order().index[0:self.k])].mean(), axis = 1)\n",
    "        elif self.distance == \"type2\":\n",
    "            A = X_test.apply(lambda x: self.X.apply(lambda y: dist2(x, y, self.weights), axis = 1), axis = 1)\n",
    "            return A.apply(lambda z: self.Y[np.array(z.order().index[0:self.k])].mean(), axis = 1)\n",
    "        elif self.distance == \"type3\":\n",
    "            A = X_test.apply(lambda x: self.X.apply(lambda y: dist3(x, y, self.weights), axis = 1), axis = 1)\n",
    "            return A.apply(lambda z: self.Y[np.array(z.order().index[0:self.k])].mean(), axis = 1)\n",
    "        else:\n",
    "            return"
   ]
  },
  {
   "cell_type": "markdown",
   "metadata": {},
   "source": [
    "Чтобы удостовериться, что выполнения задания всего лишь на 300 объектах необходимо, замерим время необходимое для одной итерации контроля."
   ]
  },
  {
   "cell_type": "code",
   "execution_count": 292,
   "metadata": {
    "collapsed": false
   },
   "outputs": [
    {
     "data": {
      "text/plain": [
       "7.035068035125732"
      ]
     },
     "execution_count": 292,
     "metadata": {},
     "output_type": "execute_result"
    }
   ],
   "source": [
    "import timeit\n",
    "timeit.timeit('classifier.predict(X_test)', setup = \"from __main__ import MyKNN, X_train, X_test, y_train; classifier = MyKNN(3, 'type1');classifier.fit(X_train, y_train)\",number = 1)"
   ]
  },
  {
   "cell_type": "markdown",
   "metadata": {},
   "source": [
    "7 секунд - очень большое время для одного процента входных данных. Так как время выполнения обучения/классификации KNN зависит от количества объектов как квадратичная функция, время выполнения одной итерации на всей выборке превышало бы 70000 секунд - более полутора месяцев. Значит дальнейшую часть первых двух пунктов будем выполнять на урезанной выборке."
   ]
  },
  {
   "cell_type": "code",
   "execution_count": 293,
   "metadata": {
    "collapsed": false
   },
   "outputs": [],
   "source": [
    "clf_t1_k10 = MyKNN(10, 'type1')\n",
    "clf_t1_k10.fit(X_train, y_train)\n",
    "t1_k10 = clf_t1_k10.predict(X_test)"
   ]
  },
  {
   "cell_type": "code",
   "execution_count": 294,
   "metadata": {
    "collapsed": false
   },
   "outputs": [],
   "source": [
    "clf_t2_k10 = MyKNN(10, 'type2')\n",
    "clf_t2_k10.fit(X_train, y_train)\n",
    "t2_k10 = clf_t2_k10.predict(X_test)"
   ]
  },
  {
   "cell_type": "code",
   "execution_count": 295,
   "metadata": {
    "collapsed": true
   },
   "outputs": [],
   "source": [
    "clf_t3_k10 = MyKNN(10, 'type3')\n",
    "clf_t3_k10.fit(X_train, y_train)\n",
    "t3_k10 = clf_t3_k10.predict(X_test)"
   ]
  },
  {
   "cell_type": "code",
   "execution_count": 296,
   "metadata": {
    "collapsed": true
   },
   "outputs": [],
   "source": [
    "AUCScore_t1 = roc_auc_score(y_test, t1_k10)"
   ]
  },
  {
   "cell_type": "code",
   "execution_count": 297,
   "metadata": {
    "collapsed": true
   },
   "outputs": [],
   "source": [
    "AUCScore_t2 = roc_auc_score(y_test, t2_k10)"
   ]
  },
  {
   "cell_type": "code",
   "execution_count": 298,
   "metadata": {
    "collapsed": true
   },
   "outputs": [],
   "source": [
    "AUCScore_t3 = roc_auc_score(y_test, t3_k10)"
   ]
  },
  {
   "cell_type": "code",
   "execution_count": 299,
   "metadata": {
    "collapsed": false
   },
   "outputs": [
    {
     "name": "stdout",
     "output_type": "stream",
     "text": [
      "type 1 AUC:  0.689655172414\n",
      "type 2 AUC:  0.739463601533\n",
      "type 3 AUC:  0.45785440613\n"
     ]
    }
   ],
   "source": [
    "print \"type 1 AUC: \", AUCScore_t1\n",
    "print \"type 2 AUC: \", AUCScore_t2\n",
    "print \"type 3 AUC: \", AUCScore_t3"
   ]
  },
  {
   "cell_type": "markdown",
   "metadata": {},
   "source": [
    "Для 10 ближайших соседей вторая функция расстояния оказалась наилучшей с оценкой AUC 0.73"
   ]
  },
  {
   "cell_type": "markdown",
   "metadata": {},
   "source": [
    "#### 2 (бонус). Подберите лучшее (на тестовой выборке) число соседей $k$ для каждой из функций расстояния. Какое наилучшее качество удалось достичь?"
   ]
  },
  {
   "cell_type": "code",
   "execution_count": 316,
   "metadata": {
    "collapsed": true
   },
   "outputs": [],
   "source": [
    "def ScoreKNN(distType, k_range, X_train, X_test, y_train, y_test):\n",
    "    answers = []\n",
    "    clf = MyKNN(0, distType)\n",
    "    clf.fit(X_train, y_train)\n",
    "    for k in k_range:\n",
    "        clf.changeK(k)\n",
    "        y_answer = clf.predict(X_test)\n",
    "        AUCScore = roc_auc_score(y_test, y_answer)\n",
    "        answers.append(AUCScore)\n",
    "        \n",
    "    return answers"
   ]
  },
  {
   "cell_type": "code",
   "execution_count": 307,
   "metadata": {
    "collapsed": true
   },
   "outputs": [],
   "source": [
    "answers_t1 = ScoreKNN('type1', range(1, 35), X_train, X_test, y_train, y_test)"
   ]
  },
  {
   "cell_type": "code",
   "execution_count": 327,
   "metadata": {
    "collapsed": true
   },
   "outputs": [],
   "source": [
    "answers_t2 = ScoreKNN('type2', range(1, 35), X_train, X_test, y_train, y_test)"
   ]
  },
  {
   "cell_type": "code",
   "execution_count": 328,
   "metadata": {
    "collapsed": false
   },
   "outputs": [],
   "source": [
    "answers_t3 = ScoreKNN('type3', range(1, 35), X_train, X_test, y_train, y_test)"
   ]
  },
  {
   "cell_type": "code",
   "execution_count": 329,
   "metadata": {
    "collapsed": false
   },
   "outputs": [
    {
     "data": {
      "image/png": "[encoded data removed]",
      "text/plain": [
       "<matplotlib.figure.Figure at 0x12f13ac10>"
      ]
     },
     "metadata": {},
     "output_type": "display_data"
    }
   ],
   "source": [
    "plot(range(1, 35), answers_t1, 'r', label = 'type1')\n",
    "plot(range(1, 35), answers_t2, 'g', label = 'type2')\n",
    "plot(range(1, 35), answers_t3, 'b', label = 'type3')\n",
    "legend(loc = 0)\n",
    "xlabel('K')\n",
    "ylabel('AUC')\n",
    "title('KNN type1/2/3')\n",
    "show()"
   ]
  },
  {
   "cell_type": "code",
   "execution_count": 311,
   "metadata": {
    "collapsed": false
   },
   "outputs": [],
   "source": [
    "t1_best_id = np.array(answers_t1).argmax()\n",
    "t1_best = answers_t1[t1_best_id]\n",
    "t1 = (t1_best_id + 1, t1_best)"
   ]
  },
  {
   "cell_type": "code",
   "execution_count": 312,
   "metadata": {
    "collapsed": true
   },
   "outputs": [],
   "source": [
    "t2_best_id = np.array(answers_t2).argmax()\n",
    "t2_best = answers_t2[t2_best_id]\n",
    "t2 = (t2_best_id + 1, t2_best)"
   ]
  },
  {
   "cell_type": "code",
   "execution_count": 313,
   "metadata": {
    "collapsed": true
   },
   "outputs": [],
   "source": [
    "t3_best_id = np.array(answers_t3).argmax()\n",
    "t3_best = answers_t3[t3_best_id]\n",
    "t3 = (t3_best_id + 1, t3_best)"
   ]
  },
  {
   "cell_type": "code",
   "execution_count": 314,
   "metadata": {
    "collapsed": false
   },
   "outputs": [
    {
     "name": "stdout",
     "output_type": "stream",
     "text": [
      "type 1 best AUC:  (30, 0.91954022988505746)\n",
      "type 2 best AUC:  (28, 0.97126436781609193)\n",
      "type 3 best AUC:  (8, 0.64176245210727978)\n"
     ]
    }
   ],
   "source": [
    "print \"type 1 best AUC: \", t1\n",
    "print \"type 2 best AUC: \", t2\n",
    "print \"type 3 best AUC: \", t3"
   ]
  },
  {
   "cell_type": "markdown",
   "metadata": {},
   "source": [
    "Лучшее качество получилось у второй метрике с 28 ближайшими соседями, его AUC оценка равна 0.971.\n",
    "Стоит отметить, что третья метрика проявила себя очень плохо, в основном показывая оценку даже меньше 0.5, что для AUC является показателем очень плохого алгоритма."
   ]
  },
  {
   "cell_type": "markdown",
   "metadata": {},
   "source": [
    "#### 3. Реализуйте счетчики (http://blogs.technet.com/b/machinelearning/archive/2015/02/17/big-learning-made-easy-with-counts.aspx), которые заменят категориальные признаки на вещественные.\n",
    "\n",
    "А именно, каждый категориальный признак нужно заменить на три: \n",
    "1. Число `counts` объектов в обучающей выборке с таким же значением признака.\n",
    "2. Число `clicks` объектов первого класса ($y = 1$) в обучающей выборке с таким же значением признака.\n",
    "3. Сглаженное отношение двух предыдущих величин: (`clicks` + 1) / (`counts` + 2).\n",
    "\n",
    "Поскольку признаки, содержащие информацию о целевой переменной, могут привести к переобучению, может оказаться полезным сделать *фолдинг*: разбить обучающую выборку на $n$ частей, и для $i$-й части считать `counts` и `clicks` по всем остальным частям. Для тестовой выборки используются счетчики, посчитанный по всей обучающей выборке. Реализуйте и такой вариант. Можно использовать $n = 3$.\n",
    "\n",
    "#### Посчитайте на тесте AUC-ROC метода $k$ ближайших соседей с евклидовой метрикой для выборки, где категориальные признаки заменены на счетчики. Сравните по AUC-ROC два варианта формирования выборки — с фолдингом и без. Не забудьте подобрать наилучшее число соседей $k$."
   ]
  },
  {
   "cell_type": "markdown",
   "metadata": {},
   "source": [
    "Так как в этом задании необходимо пользоваться евклидовой метрикой, то нет смысла работать с собственной реализацией KNN без кд-дерева. В этом и последующих пунктах работа проводилась на полной выборке."
   ]
  },
  {
   "cell_type": "code",
   "execution_count": 11,
   "metadata": {
    "collapsed": false
   },
   "outputs": [],
   "source": [
    "def clickTransform(data_stats, data_transform, target):\n",
    "    data_c = data_transform.copy()\n",
    "    if target not in data_c.columns:\n",
    "        return\n",
    "    for col in data_c.columns:\n",
    "        if col == target:\n",
    "            continue\n",
    "        clicks = data_c[col].map(data_stats[col][data_stats[target] == 1].value_counts()).fillna(0)\n",
    "        counts = data_c[col].map(data_stats[col].value_counts()).fillna(0)\n",
    "        divs = (clicks + 1).divide((counts + 2), fill_value = 0)\n",
    "        data_c[col + \"_clicks\"] = clicks\n",
    "        data_c[col + \"_counts\"] = counts\n",
    "        data_c[col + \"_divs\"] = divs\n",
    "        data_c = data_c.drop(col, axis = 1)\n",
    "        \n",
    "    return data_c"
   ]
  },
  {
   "cell_type": "code",
   "execution_count": 61,
   "metadata": {
    "collapsed": false
   },
   "outputs": [],
   "source": [
    "def clickFoldingTransform(data, target, n):\n",
    "    data_c = data.copy()\n",
    "    colList = data_c.columns\n",
    "    \n",
    "    if target not in colList:\n",
    "        return\n",
    "    \n",
    "    foldCol = \"__FOLD__\"\n",
    "    foldSize = (data_c.shape[0] + n - 1) / n \n",
    "    serValues = np.tile(np.arange(0, n), foldSize)[0:data_c.shape[0]]\n",
    "    np.random.shuffle(serValues)\n",
    "    data_c[foldCol] = pd.Series(serValues, index = data_c.index)\n",
    "    \n",
    "    cl_list = dict()\n",
    "    cn_list = dict()\n",
    "    div_list = dict()\n",
    "    \n",
    "    for col in colList:\n",
    "        cl_list[col] = []\n",
    "        cn_list[col] = []\n",
    "        div_list[col] = []\n",
    "    \n",
    "    for i in range(0, n):\n",
    "        unfold = data_c[data_c[foldCol] != i]\n",
    "        fold = data_c[data_c[foldCol] == i]\n",
    "        for col in colList:\n",
    "            if col == target:\n",
    "                continue\n",
    "            \n",
    "            clicks = fold[col].map(unfold[col][unfold[target] == 1].value_counts()).fillna(0)\n",
    "            counts = fold[col].map(unfold[col].value_counts()).fillna(0)\n",
    "            divs = (clicks + 1).divide((counts + 2), fill_value = 0)\n",
    "            \n",
    "            cl_list[col].append(clicks)\n",
    "            cn_list[col].append(counts)\n",
    "            div_list[col].append(divs)\n",
    "            \n",
    "    for col in colList:\n",
    "        if col == target:\n",
    "            continue\n",
    "\n",
    "        data_c[col + \"_clicks\"] = pd.concat(cl_list[col])\n",
    "        data_c[col + \"_counts\"] = pd.concat(cn_list[col])\n",
    "        data_c[col + \"_divs\"] = pd.concat(div_list[col])\n",
    "        data_c = data_c.drop(col, axis = 1)\n",
    "        \n",
    "    data_c = data_c.drop(foldCol, axis = 1)\n",
    "           \n",
    "    return data_c"
   ]
  },
  {
   "cell_type": "code",
   "execution_count": 62,
   "metadata": {
    "collapsed": true
   },
   "outputs": [],
   "source": [
    "def fold_click(D_train, D_test, target,n):\n",
    "    d_tr = clickFoldingTransform(D_train, target, n)\n",
    "    X_train = d_tr.iloc[:, 1:]\n",
    "    y_train = d_tr.iloc[:, 0]\n",
    "    d_tst = clickTransform(D_train, D_test, target)\n",
    "    X_test = d_tst.iloc[:, 1:]\n",
    "    y_test = d_tst.iloc[:, 0]\n",
    "    \n",
    "    return X_train, X_test, y_train, y_test"
   ]
  },
  {
   "cell_type": "code",
   "execution_count": 63,
   "metadata": {
    "collapsed": true
   },
   "outputs": [],
   "source": [
    "def nofold_click(D_train, D_test, target):\n",
    "    d_tr = clickTransform(D_train, D_train, target)\n",
    "    X_train = d_tr.iloc[:, 1:]\n",
    "    y_train = d_tr.iloc[:, 0]\n",
    "    d_tst = clickTransform(D_train, D_test, target)\n",
    "    X_test = d_tst.iloc[:, 1:]\n",
    "    y_test = d_tst.iloc[:, 0]\n",
    "\n",
    "    return X_train, X_test, y_train, y_test   "
   ]
  },
  {
   "cell_type": "code",
   "execution_count": 110,
   "metadata": {
    "collapsed": true
   },
   "outputs": [],
   "source": [
    "def KNNEval (X_train, X_test, y_train, y_test, k_range):\n",
    "    fold_results = []\n",
    "    for k in k_range:\n",
    "        knn = KNeighborsClassifier(n_neighbors=k, metric = \"euclidean\")\n",
    "        knn.fit(X_train, y_train)\n",
    "        y_answer = [p[1] for p in knn.predict_proba(X_test)]\n",
    "        fold_results.append(roc_auc_score(y_test, y_answer))\n",
    "        \n",
    "    return fold_results"
   ]
  },
  {
   "cell_type": "markdown",
   "metadata": {},
   "source": [
    "После реализации основных методов можно посмотреть, что они работают."
   ]
  },
  {
   "cell_type": "code",
   "execution_count": 65,
   "metadata": {
    "collapsed": true
   },
   "outputs": [],
   "source": [
    "D_train, D_test = train_test_split(DATA.iloc[:, :], test_size=0.3, random_state=241)"
   ]
  },
  {
   "cell_type": "code",
   "execution_count": 66,
   "metadata": {
    "collapsed": false
   },
   "outputs": [],
   "source": [
    "Xf_train, Xf_test, yf_train, yf_test = fold_click(D_train, D_test, \"ACTION\", 3)\n",
    "fold_results = KNNEval(Xf_train, Xf_test, yf_train, yf_test, range(1, 35))"
   ]
  },
  {
   "cell_type": "code",
   "execution_count": 35,
   "metadata": {
    "collapsed": false
   },
   "outputs": [],
   "source": [
    "Xnf_train, Xnf_test, ynf_train, ynf_test = nofold_click(D_train, D_test, \"ACTION\")\n",
    "nofold_results = KNNEval(Xnf_train, Xnf_test, ynf_train, ynf_test, range(1, 35))"
   ]
  },
  {
   "cell_type": "code",
   "execution_count": 91,
   "metadata": {
    "collapsed": false
   },
   "outputs": [],
   "source": [
    "def analyseKNNFolding(D_train, D_test, n, k_range):\n",
    "    Xf_train, Xf_test, yf_train, yf_test = fold_click(D_train, D_test, \"ACTION\", n)\n",
    "    fold_results = KNNEval(Xf_train, Xf_test, yf_train, yf_test, k_range)\n",
    "    \n",
    "    Xnf_train, Xnf_test, ynf_train, ynf_test = nofold_click(D_train, D_test, \"ACTION\")\n",
    "    nofold_results = KNNEval(Xnf_train, Xnf_test, ynf_train, ynf_test, k_range)\n",
    "    \n",
    "    plot(k_range, fold_results, 'r', label = 'KNN + click with folding')\n",
    "    plot(k_range, nofold_results, 'g', label = 'KNN + click w/o folding')\n",
    "    legend(loc = 0)\n",
    "    xlabel('K')\n",
    "    ylabel('AUC')\n",
    "    title('KNN with ' + str(n) + '-fold clicks.')\n",
    "    show()\n",
    "    \n",
    "    best_fold = np.array(fold_results).argmax()\n",
    "    best_nofold = np.array(nofold_results).argmax()                     \n",
    "    print \"Best KNN with folding quality: k =\", best_fold, \", AUC =\" , fold_results[best_fold]\n",
    "    print \"Best KNN w/o folding quality: k =\", best_nofold, \", AUC =\" , nofold_results[best_nofold]"
   ]
  },
  {
   "cell_type": "code",
   "execution_count": 85,
   "metadata": {
    "collapsed": false
   },
   "outputs": [
    {
     "data": {
      "image/png": "[encoded data removed]",
      "text/plain": [
       "<matplotlib.figure.Figure at 0x118718b50>"
      ]
     },
     "metadata": {},
     "output_type": "display_data"
    },
    {
     "name": "stdout",
     "output_type": "stream",
     "text": [
      "Best KNN with folding quality: k = 4 , AUC = 0.53664544637\n",
      "Best KNN w/o folding quality: k = 13 , AUC = 0.796091066126\n"
     ]
    }
   ],
   "source": [
    "analyseKNNFolding(D_train, D_test, 3, range(1, 35))"
   ]
  },
  {
   "cell_type": "markdown",
   "metadata": {},
   "source": [
    "Результат на алгоритме с тремя фолдами получился очень плохим. Скорее всего это происходит из-за того что полностью теряется информация о значениях признаков с немногочисленными представителями таких значений. Проверим работу алгоритма для большего количества фолдов."
   ]
  },
  {
   "cell_type": "code",
   "execution_count": 86,
   "metadata": {
    "collapsed": false
   },
   "outputs": [
    {
     "data": {
      "image/png": "[encoded data removed]",
      "text/plain": [
       "<matplotlib.figure.Figure at 0x10da9aed0>"
      ]
     },
     "metadata": {},
     "output_type": "display_data"
    },
    {
     "name": "stdout",
     "output_type": "stream",
     "text": [
      "Best KNN with folding quality: k = 21 , AUC = 0.778085443322\n",
      "Best KNN w/o folding quality: k = 13 , AUC = 0.796091066126\n"
     ]
    }
   ],
   "source": [
    "analyseKNNFolding(D_train, D_test, 100, range(1, 35))"
   ]
  },
  {
   "cell_type": "code",
   "execution_count": 87,
   "metadata": {
    "collapsed": false
   },
   "outputs": [
    {
     "data": {
      "image/png": "[encoded data removed]",
      "text/plain": [
       "<matplotlib.figure.Figure at 0x125ec2fd0>"
      ]
     },
     "metadata": {},
     "output_type": "display_data"
    },
    {
     "name": "stdout",
     "output_type": "stream",
     "text": [
      "Best KNN with folding quality: k = 13 , AUC = 0.795639721491\n",
      "Best KNN w/o folding quality: k = 13 , AUC = 0.796091066126\n"
     ]
    }
   ],
   "source": [
    "analyseKNNFolding(D_train, D_test, 5000, range(1, 35))"
   ]
  },
  {
   "cell_type": "markdown",
   "metadata": {},
   "source": [
    "Заметно, что при увеличении количества фолдов разница между методами сокращается, причем метод с фолдами даже начинает местами превосходить метод без фолдов."
   ]
  },
  {
   "cell_type": "markdown",
   "metadata": {},
   "source": [
    "#### 4. Добавьте в исходную выборку парные признаки — то есть для каждой пары $f_i$, $f_j$ исходных категориальных признаков добавьте новый категориальный признак $f_{ij}$, значение которого является конкатенацией значений $f_i$ и $f_j$. Посчитайте счетчики для этой выборки, найдите качество метода $k$ ближайших соседей с наилучшим $k$ (с фолдингом и без)."
   ]
  },
  {
   "cell_type": "code",
   "execution_count": 104,
   "metadata": {
    "collapsed": false
   },
   "outputs": [],
   "source": [
    "def addPairFeatures(data, target):\n",
    "    data_ans = data.copy()\n",
    "    \n",
    "    columns = [x for x in data_ans.columns if x != target]\n",
    "    data_ans = data_ans.applymap(str)\n",
    "    data_ans[target] = data_ans[target].apply(int)\n",
    "    \n",
    "    length = len(columns)\n",
    "    \n",
    "    for i in range(0, length):\n",
    "        for k in range(i + 1, length): \n",
    "            data_ans[columns[i] + \"|\" + columns[k]] = data_ans[columns[i]] + data_ans[columns[k]]\n",
    "            \n",
    "    return data_ans"
   ]
  },
  {
   "cell_type": "code",
   "execution_count": 105,
   "metadata": {
    "collapsed": false
   },
   "outputs": [],
   "source": [
    "Pairs = addPairFeatures(DATA, \"ACTION\")"
   ]
  },
  {
   "cell_type": "code",
   "execution_count": 106,
   "metadata": {
    "collapsed": true
   },
   "outputs": [],
   "source": [
    "Dp_train, Dp_test = train_test_split(Pairs.iloc[:, :], test_size=0.3, random_state=241)"
   ]
  },
  {
   "cell_type": "code",
   "execution_count": 111,
   "metadata": {
    "collapsed": false
   },
   "outputs": [
    {
     "data": {
      "image/png": "[encoded data removed]",
      "text/plain": [
       "<matplotlib.figure.Figure at 0x11d5292d0>"
      ]
     },
     "metadata": {},
     "output_type": "display_data"
    },
    {
     "name": "stdout",
     "output_type": "stream",
     "text": [
      "Best KNN with folding quality: k = 7 , AUC = 0.574336721967\n",
      "Best KNN w/o folding quality: k = 7 , AUC = 0.801859076241\n"
     ]
    }
   ],
   "source": [
    "analyseKNNFolding(Dp_train, Dp_test, 3, range(1, 35))"
   ]
  },
  {
   "cell_type": "code",
   "execution_count": 112,
   "metadata": {
    "collapsed": false
   },
   "outputs": [
    {
     "data": {
      "image/png": "[encoded data removed]",
      "text/plain": [
       "<matplotlib.figure.Figure at 0x10dabd8d0>"
      ]
     },
     "metadata": {},
     "output_type": "display_data"
    },
    {
     "name": "stdout",
     "output_type": "stream",
     "text": [
      "Best KNN with folding quality: k = 16 , AUC = 0.792082608199\n",
      "Best KNN w/o folding quality: k = 7 , AUC = 0.801859076241\n"
     ]
    }
   ],
   "source": [
    "analyseKNNFolding(Dp_train, Dp_test, 100, range(1, 35))"
   ]
  },
  {
   "cell_type": "code",
   "execution_count": 113,
   "metadata": {
    "collapsed": false
   },
   "outputs": [
    {
     "data": {
      "image/png": "[encoded data removed]",
      "text/plain": [
       "<matplotlib.figure.Figure at 0x11e941490>"
      ]
     },
     "metadata": {},
     "output_type": "display_data"
    },
    {
     "name": "stdout",
     "output_type": "stream",
     "text": [
      "Best KNN with folding quality: k = 15 , AUC = 0.803091715243\n",
      "Best KNN w/o folding quality: k = 7 , AUC = 0.801859076241\n"
     ]
    }
   ],
   "source": [
    "analyseKNNFolding(Dp_train, Dp_test, 5000, range(1, 35))"
   ]
  },
  {
   "cell_type": "markdown",
   "metadata": {},
   "source": [
    "После использования парных признаков ничего принципиально не изменилось."
   ]
  },
  {
   "cell_type": "markdown",
   "metadata": {},
   "source": [
    "## Часть 2: Решающие деревья и леса"
   ]
  },
  {
   "cell_type": "markdown",
   "metadata": {},
   "source": [
    "#### 1. Возьмите из предыдущей части выборку с парными признаками, преобразованную с помощью счетчиков без фолдинга. Настройте решающее дерево, подобрав оптимальные значения параметров `max_depth` и `min_samples_leaf`. Какой наилучший AUC-ROC на контроле удалось получить?"
   ]
  },
  {
   "cell_type": "code",
   "execution_count": 192,
   "metadata": {
    "collapsed": false
   },
   "outputs": [],
   "source": [
    "from sklearn import tree\n",
    "from matplotlib.colorbar import make_axes"
   ]
  },
  {
   "cell_type": "markdown",
   "metadata": {},
   "source": [
    "Так как генерация дерева занимает много времени, то оптимизация параметра будет проходить по решетке с большим шагом. В данном случае это не критично так как картинка не сильно меняется с уменьшением шага. \n",
    "Можно было бы воспользоваться реализованным в sklearn GridSearchCV для перебора параметров по решетке, но для данного простого случая было решено этого не делать."
   ]
  },
  {
   "cell_type": "code",
   "execution_count": 336,
   "metadata": {
    "collapsed": true
   },
   "outputs": [],
   "source": [
    "Xpnnf_train, Xpnnf_test, ypnnf_train, ypnnf_test = nofold_click(Dp_train, Dp_test, \"ACTION\")"
   ]
  },
  {
   "cell_type": "code",
   "execution_count": 337,
   "metadata": {
    "collapsed": false
   },
   "outputs": [],
   "source": [
    "MSLrange = range(1, 2501, 50)\n",
    "MDrange = range(1, 100, 5)\n",
    "tot_ans = []\n",
    "for k in MSLrange:\n",
    "    ans = []\n",
    "    for l in MDrange:\n",
    "        DTclf = tree.DecisionTreeClassifier(min_samples_leaf = k, max_depth = l)\n",
    "        DTclf.fit(Xpnnf_train, ypnnf_train)\n",
    "        y_answer = [p[1] for p in DTclf.predict_proba(Xpnnf_test)]\n",
    "        ans.append(roc_auc_score(ypnnf_test, y_answer))\n",
    "        \n",
    "    tot_ans.append(ans)"
   ]
  },
  {
   "cell_type": "code",
   "execution_count": 338,
   "metadata": {
    "collapsed": true
   },
   "outputs": [],
   "source": [
    "zvals = np.array(tot_ans)"
   ]
  },
  {
   "cell_type": "code",
   "execution_count": 339,
   "metadata": {
    "collapsed": false,
    "scrolled": true
   },
   "outputs": [
    {
     "data": {
      "image/png": "[encoded data removed]",
      "text/plain": [
       "<matplotlib.figure.Figure at 0x134a051d0>"
      ]
     },
     "metadata": {},
     "output_type": "display_data"
    }
   ],
   "source": [
    "from matplotlib import mpl,pyplot\n",
    "\n",
    "cmap2 = mpl.colors.LinearSegmentedColormap.from_list('my_colormap', ['blue','black','red'], 256)\n",
    "\n",
    "img2 = pyplot.imshow(zvals,interpolation='nearest', cmap = cmap2, origin='lower', aspect = 'auto')\n",
    "\n",
    "colorbarplot = pyplot.colorbar(img2,cmap=cmap2)"
   ]
  },
  {
   "cell_type": "code",
   "execution_count": 340,
   "metadata": {
    "collapsed": false
   },
   "outputs": [
    {
     "data": {
      "text/plain": [
       "(array([33, 33, 33, 33, 33, 33, 33, 33, 33, 33, 33, 33, 33, 33, 33, 33, 33,\n",
       "        33, 33]),\n",
       " array([ 1,  2,  3,  4,  5,  6,  7,  8,  9, 10, 11, 12, 13, 14, 15, 16, 17,\n",
       "        18, 19]))"
      ]
     },
     "execution_count": 340,
     "metadata": {},
     "output_type": "execute_result"
    }
   ],
   "source": [
    "np.where(zvals >= zvals.max())"
   ]
  },
  {
   "cell_type": "code",
   "execution_count": 341,
   "metadata": {
    "collapsed": false
   },
   "outputs": [
    {
     "name": "stdout",
     "output_type": "stream",
     "text": [
      "0.797965903038\n"
     ]
    }
   ],
   "source": [
    "print zvals.max()"
   ]
  },
  {
   "cell_type": "markdown",
   "metadata": {},
   "source": [
    "Максимальное значение получилось 0.797, оно достигается при максимальной глубине более 6 и минимальным количеством объектов в листе равном 1651."
   ]
  },
  {
   "cell_type": "markdown",
   "metadata": {},
   "source": [
    "#### 2. Настройте случайный лес, подобрав оптимальное число деревьев `n_estimators`. Какое качество на тестовой выборке он дает?"
   ]
  },
  {
   "cell_type": "code",
   "execution_count": 266,
   "metadata": {
    "collapsed": false
   },
   "outputs": [],
   "source": [
    "from sklearn.ensemble import RandomForestClassifier"
   ]
  },
  {
   "cell_type": "code",
   "execution_count": 342,
   "metadata": {
    "collapsed": false
   },
   "outputs": [],
   "source": [
    "k_range = range(1, 80, 1)\n",
    "rf_ans = []\n",
    "for i in k_range:\n",
    "    clf = RandomForestClassifier(n_estimators = i, random_state = 241)\n",
    "    clf.fit(Xpnnf_train, ypnnf_train)\n",
    "    y_answer = [p[1] for p in clf.predict_proba(Xpnnf_test)]\n",
    "    rf_ans.append(roc_auc_score(ypnnf_test, y_answer))"
   ]
  },
  {
   "cell_type": "code",
   "execution_count": 343,
   "metadata": {
    "collapsed": false
   },
   "outputs": [
    {
     "data": {
      "image/png": "[encoded data removed]",
      "text/plain": [
       "<matplotlib.figure.Figure at 0x10f3b8750>"
      ]
     },
     "metadata": {},
     "output_type": "display_data"
    }
   ],
   "source": [
    "plot(k_range, rf_ans, 'g', label = 'Random Forest')\n",
    "legend(loc = 0)\n",
    "xlabel('Tree number')\n",
    "ylabel('AUC')\n",
    "title('Random Forest')\n",
    "show()"
   ]
  },
  {
   "cell_type": "code",
   "execution_count": 344,
   "metadata": {
    "collapsed": false
   },
   "outputs": [
    {
     "name": "stdout",
     "output_type": "stream",
     "text": [
      "68 0.732373837359\n"
     ]
    }
   ],
   "source": [
    "print np.array(rf_ans).argmax(), np.array(rf_ans).max()"
   ]
  },
  {
   "cell_type": "markdown",
   "metadata": {},
   "source": [
    "Случайный лес дает лучшее качество 0.73 AUC при 68деревьях."
   ]
  },
  {
   "cell_type": "markdown",
   "metadata": {},
   "source": [
    "#### 3. Возьмите выборку с парными признаками, для которой счетчики посчитаны с фолдингом. Обучите на ней случайный лес, подобрав число деревьев. Какое качество на тестовой выборке он дает? Чем вы можете объяснить изменение результата по сравнению с предыдущим пунктом?"
   ]
  },
  {
   "cell_type": "code",
   "execution_count": 284,
   "metadata": {
    "collapsed": false
   },
   "outputs": [],
   "source": [
    "Xpnf_train, Xpnf_test, ypnf_train, ypnf_test = fold_click(Dp_train, Dp_test, \"ACTION\", 3)"
   ]
  },
  {
   "cell_type": "code",
   "execution_count": 335,
   "metadata": {
    "collapsed": false
   },
   "outputs": [],
   "source": [
    "k_range = range(1, 80, 1)\n",
    "rpnff_ans = []\n",
    "for i in k_range:\n",
    "    clf = RandomForestClassifier(n_estimators = i, random_state = 241)\n",
    "    clf.fit(Xpnf_train, ypnf_train)\n",
    "    y_answer = [p[1] for p in clf.predict_proba(Xpnf_test)]\n",
    "    rpnff_ans.append(roc_auc_score(ypnf_test, y_answer))"
   ]
  },
  {
   "cell_type": "code",
   "execution_count": 333,
   "metadata": {
    "collapsed": false
   },
   "outputs": [
    {
     "data": {
      "image/png": "[encoded data removed]",
      "text/plain": [
       "<matplotlib.figure.Figure at 0x13fc6e110>"
      ]
     },
     "metadata": {},
     "output_type": "display_data"
    }
   ],
   "source": [
    "plot(k_range, rpnff_ans, 'g', label = 'Random Forest')\n",
    "legend(loc = 0)\n",
    "xlabel('Tree number')\n",
    "ylabel('AUC')\n",
    "title('Random Forest')\n",
    "show()"
   ]
  },
  {
   "cell_type": "code",
   "execution_count": 287,
   "metadata": {
    "collapsed": false
   },
   "outputs": [
    {
     "name": "stdout",
     "output_type": "stream",
     "text": [
      "78 0.843544792293\n"
     ]
    }
   ],
   "source": [
    "print np.array(rpnff_ans).argmax(), np.array(rpnff_ans).max()"
   ]
  },
  {
   "cell_type": "markdown",
   "metadata": {},
   "source": [
    "Алгоритм дает значительно лучшее качество, почти на 0.1 практически на всех количествах деревьев. Лучшее качество было достигнуто на 78 деревьях и оно равно 0.84 AUC. Причина такого повышения качества ввергают меня в недоумение, особенно после того как обнаружилось, что техника фолдов с малым количеством фолдов очень резко снижает качество классификаци. Придумать причину, которая применялась бы к случайному лесу но не применялась к KNN у меня не получилось."
   ]
  }
 ],
 "metadata": {
  "kernelspec": {
   "display_name": "Python 2",
   "language": "python",
   "name": "python2"
  },
  "language_info": {
   "codemirror_mode": {
    "name": "ipython",
    "version": 2
   },
   "file_extension": ".py",
   "mimetype": "text/x-python",
   "name": "python",
   "nbconvert_exporter": "python",
   "pygments_lexer": "ipython2",
   "version": "2.7.5"
  }
 },
 "nbformat": 4,
 "nbformat_minor": 0
}
